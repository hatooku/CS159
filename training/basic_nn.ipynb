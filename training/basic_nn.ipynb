{
 "cells": [
  {
   "cell_type": "code",
   "execution_count": 1,
   "metadata": {},
   "outputs": [
    {
     "name": "stderr",
     "output_type": "stream",
     "text": [
      "Using TensorFlow backend.\n"
     ]
    }
   ],
   "source": [
    "import numpy as np\n",
    "import keras\n",
    "from keras.models import Sequential\n",
    "from keras.layers import Dense, Activation, Dropout\n",
    "from keras.layers import Conv2D, MaxPooling2D, Flatten, BatchNormalization\n",
    "from keras import regularizers\n",
    "from keras.wrappers.scikit_learn import KerasClassifier"
   ]
  },
  {
   "cell_type": "code",
   "execution_count": null,
   "metadata": {
    "collapsed": true
   },
   "outputs": [],
   "source": []
  },
  {
   "cell_type": "markdown",
   "metadata": {},
   "source": [
    "## Format Data"
   ]
  },
  {
   "cell_type": "code",
   "execution_count": null,
   "metadata": {
    "collapsed": true
   },
   "outputs": [],
   "source": []
  },
  {
   "cell_type": "markdown",
   "metadata": {},
   "source": [
    "## Make Keras Model"
   ]
  },
  {
   "cell_type": "code",
   "execution_count": null,
   "metadata": {
    "collapsed": true
   },
   "outputs": [],
   "source": [
    "def create_model(dropout_rate = 0.15, n=100, activations = 'relu', optimizers='adam'):\n",
    "    \n",
    "    model = Sequential()\n",
    "    \n",
    "    model.add(Dense(n, input_dim=68))\n",
    "    model.add(Activation(activations))\n",
    "    model.add(Dropout(dropout_rate))\n",
    "    model.add(Dense(100))\n",
    "    model.add(Activation(activations))\n",
    "    model.add(Dense(10, activation='softmax'))    \n",
    "    model.compile(loss='mean_squared_error', optimizer=optimizers, metrics=['accuracy'])\n",
    "\n",
    "    # Printing a summary of the layers and weights in your model\n",
    "    model.summary()\n",
    "    \n",
    "    return model\n"
   ]
  },
  {
   "cell_type": "markdown",
   "metadata": {},
   "source": [
    "## Fit Model"
   ]
  },
  {
   "cell_type": "code",
   "execution_count": null,
   "metadata": {
    "collapsed": true
   },
   "outputs": [],
   "source": [
    "seed = 0\n",
    "np.random.seed(seed)\n",
    "neural_network_clf = KerasClassifier(build_fn=create_model, verbose=0, batch_size=32)\n",
    "\n",
    "neural_network_parameters = {'dropout_rate':[0.15], 'n':[45],\n",
    "                             'activations':['relu'], 'epochs':[10]}\n",
    "\n",
    "neural_network_gsc = GridSearchCV(estimator=neural_network_clf, param_grid=neural_network_parameters, cv=3, \n",
    "                                return_train_score=True)\n",
    "\n",
    "neural_network_gsc.fit(X_train, Y_train, verbose=1)\n"
   ]
  },
  {
   "cell_type": "markdown",
   "metadata": {},
   "source": [
    "## Results"
   ]
  },
  {
   "cell_type": "code",
   "execution_count": null,
   "metadata": {
    "collapsed": true
   },
   "outputs": [],
   "source": [
    "print('best estimator: ' + str(neural_network_gsc.best_estimator_))\n",
    "print('best score: ' + str(neural_network_gsc.best_score_))\n",
    "print('best parameters: ' + str(neural_network_gsc.best_params_))\n",
    "\n",
    "print('In sample error: ' + str(neural_network_gsc.best_estimator_.score(X_train, Y_train)))\n",
    "neural_network_predictions = neural_network_gsc.best_estimator_.predict(X_train)"
   ]
  }
 ],
 "metadata": {
  "kernelspec": {
   "display_name": "Python 3",
   "language": "python",
   "name": "python3"
  },
  "language_info": {
   "codemirror_mode": {
    "name": "ipython",
    "version": 3
   },
   "file_extension": ".py",
   "mimetype": "text/x-python",
   "name": "python",
   "nbconvert_exporter": "python",
   "pygments_lexer": "ipython3",
   "version": "3.6.3"
  }
 },
 "nbformat": 4,
 "nbformat_minor": 2
}
