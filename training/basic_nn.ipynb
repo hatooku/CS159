{
 "cells": [
  {
   "cell_type": "code",
   "execution_count": 17,
   "metadata": {},
   "outputs": [],
   "source": [
    "import numpy as np\n",
    "import keras\n",
    "from keras.models import Sequential\n",
    "from keras.layers import Dense, Activation, Dropout\n",
    "from keras.layers import Conv2D, MaxPooling2D, Flatten, BatchNormalization\n",
    "from keras import regularizers\n",
    "from keras.wrappers.scikit_learn import KerasClassifier\n",
    "from keras.models import load_model\n",
    "\n",
    "from sklearn.model_selection import GridSearchCV\n",
    "from sklearn import metrics"
   ]
  },
  {
   "cell_type": "code",
   "execution_count": null,
   "metadata": {
    "collapsed": true
   },
   "outputs": [],
   "source": []
  },
  {
   "cell_type": "markdown",
   "metadata": {},
   "source": [
    "## Format Data"
   ]
  },
  {
   "cell_type": "code",
   "execution_count": 18,
   "metadata": {
    "collapsed": true
   },
   "outputs": [],
   "source": [
    "LOG_FILE = 'base_left-11.log'\n",
    "OUTPUT_SIZE = 10\n",
    "ACTIONS = {'Dash', 'Turn', 'Tackle', 'Kick'}\n",
    "\n",
    "def fetch_data(log_file):\n",
    "    X = []\n",
    "    y = []\n",
    "    i = 0\n",
    "\n",
    "    with open(log_file) as f:\n",
    "        lines = f.readlines()\n",
    "    lines = [line.strip() for line in lines]\n",
    "\n",
    "    while i < len(lines):\n",
    "        words = lines[i].split()\n",
    "\n",
    "        if words[3] == 'StateFeatures':\n",
    "            action_exists = False\n",
    "            for action in ACTIONS:\n",
    "                if action in lines[i+1]:\n",
    "                    action_exists = True\n",
    "\n",
    "            if action_exists:\n",
    "                state_features = get_feature_array(words[4:])\n",
    "                X.append(state_features)\n",
    "\n",
    "                action = get_action_array(lines[i+1].split()[4])\n",
    "                y.append(action)\n",
    "\n",
    "                i += 2\n",
    "            else:\n",
    "                i += 1\n",
    "        else:\n",
    "            i += 1\n",
    "    \n",
    "    return np.array(X), np.array(y)\n",
    "\n",
    "def get_feature_array(features):\n",
    "    feature_array = [float(feat) for feat in features]\n",
    "    for feat in feature_array:\n",
    "        assert feat >= -1.0 and feat <= 1.0\n",
    "    return feature_array\n",
    "\n",
    "def get_action_array(action):\n",
    "    action_array = [0 for i in range(OUTPUT_SIZE)]\n",
    "    param_str = action[action.index('(')+1:-1]\n",
    "\n",
    "    if action[:4] == 'Dash':\n",
    "        params = [float(param) for param in param_str.split(',')]\n",
    "        action_array[0] = 1\n",
    "        action_array[1] = params[0]\n",
    "        action_array[2] = params[1]\n",
    "    elif action[:4] == 'Turn':\n",
    "        param = float(param_str)\n",
    "        action_array[3] = 1\n",
    "        action_array[4] = param\n",
    "    elif action[:6] == 'Tackle':\n",
    "        params = [float(param) for param in param_str.split(',')]\n",
    "        action_array[5] = 1\n",
    "        action_array[6] = params[0]\n",
    "    elif action[:4] == 'Kick':\n",
    "        params = [float(param) for param in param_str.split(',')]\n",
    "        action_array[7] = 1\n",
    "        action_array[8] = params[0]\n",
    "        action_array[9] = params[1]\n",
    "\n",
    "    return action_array"
   ]
  },
  {
   "cell_type": "code",
   "execution_count": 19,
   "metadata": {
    "collapsed": true
   },
   "outputs": [],
   "source": [
    "X_train, y_train = fetch_data(LOG_FILE)"
   ]
  },
  {
   "cell_type": "code",
   "execution_count": 20,
   "metadata": {},
   "outputs": [
    {
     "name": "stdout",
     "output_type": "stream",
     "text": [
      "(18010, 68)\n",
      "(18010, 10)\n"
     ]
    }
   ],
   "source": [
    "print(X_train.shape)\n",
    "print(y_train.shape)"
   ]
  },
  {
   "cell_type": "markdown",
   "metadata": {},
   "source": [
    "## Make Keras Model"
   ]
  },
  {
   "cell_type": "code",
   "execution_count": 23,
   "metadata": {},
   "outputs": [
    {
     "name": "stdout",
     "output_type": "stream",
     "text": [
      "_________________________________________________________________\n",
      "Layer (type)                 Output Shape              Param #   \n",
      "=================================================================\n",
      "dense_16 (Dense)             (None, 68)                4692      \n",
      "_________________________________________________________________\n",
      "activation_11 (Activation)   (None, 68)                0         \n",
      "_________________________________________________________________\n",
      "dropout_6 (Dropout)          (None, 68)                0         \n",
      "_________________________________________________________________\n",
      "dense_17 (Dense)             (None, 100)               6900      \n",
      "_________________________________________________________________\n",
      "activation_12 (Activation)   (None, 100)               0         \n",
      "_________________________________________________________________\n",
      "dense_18 (Dense)             (None, 10)                1010      \n",
      "=================================================================\n",
      "Total params: 12,602\n",
      "Trainable params: 12,602\n",
      "Non-trainable params: 0\n",
      "_________________________________________________________________\n"
     ]
    }
   ],
   "source": [
    "\n",
    "model = Sequential()\n",
    "\n",
    "model.add(Dense(68, input_dim=68))\n",
    "model.add(Activation('relu'))\n",
    "model.add(Dropout(0.15))\n",
    "model.add(Dense(100))\n",
    "model.add(Activation('relu'))\n",
    "model.add(Dense(10, activation='softmax'))    \n",
    "model.compile(loss='mean_squared_error', optimizer='adam', metrics=['accuracy'])\n",
    "\n",
    "# Printing a summary of the layers and weights in your model\n",
    "model.summary()\n",
    "    \n"
   ]
  },
  {
   "cell_type": "markdown",
   "metadata": {},
   "source": [
    "## Fit Model"
   ]
  },
  {
   "cell_type": "code",
   "execution_count": 24,
   "metadata": {},
   "outputs": [
    {
     "name": "stdout",
     "output_type": "stream",
     "text": [
      "Epoch 1/15\n",
      "18010/18010 [==============================] - 2s 87us/step - loss: 875.4434 - acc: 0.7590\n",
      "Epoch 2/15\n",
      "18010/18010 [==============================] - 1s 55us/step - loss: 874.8255 - acc: 0.7786\n",
      "Epoch 3/15\n",
      "18010/18010 [==============================] - 1s 53us/step - loss: 874.7834 - acc: 0.7803\n",
      "Epoch 4/15\n",
      "18010/18010 [==============================] - 1s 53us/step - loss: 874.7787 - acc: 0.7802\n",
      "Epoch 5/15\n",
      "18010/18010 [==============================] - 1s 53us/step - loss: 874.8130 - acc: 0.7793\n",
      "Epoch 6/15\n",
      "18010/18010 [==============================] - 1s 53us/step - loss: 874.7129 - acc: 0.7843\n",
      "Epoch 7/15\n",
      "18010/18010 [==============================] - 1s 61us/step - loss: 874.6374 - acc: 0.7891\n",
      "Epoch 8/15\n",
      "18010/18010 [==============================] - 1s 59us/step - loss: 874.2422 - acc: 0.8352\n",
      "Epoch 9/15\n",
      "18010/18010 [==============================] - 1s 54us/step - loss: 873.9845 - acc: 0.8615: 1s - loss: 870.\n",
      "Epoch 10/15\n",
      "18010/18010 [==============================] - 1s 54us/step - loss: 873.9699 - acc: 0.8628\n",
      "Epoch 11/15\n",
      "18010/18010 [==============================] - 1s 56us/step - loss: 873.9765 - acc: 0.8630\n",
      "Epoch 12/15\n",
      "18010/18010 [==============================] - 1s 54us/step - loss: 873.9607 - acc: 0.8635\n",
      "Epoch 13/15\n",
      "18010/18010 [==============================] - 1s 54us/step - loss: 873.9576 - acc: 0.8638\n",
      "Epoch 14/15\n",
      "18010/18010 [==============================] - 1s 54us/step - loss: 873.9775 - acc: 0.8623\n",
      "Epoch 15/15\n",
      "18010/18010 [==============================] - 1s 55us/step - loss: 873.9651 - acc: 0.8630\n"
     ]
    }
   ],
   "source": [
    "fit = model.fit(X_train, y_train, batch_size=32, epochs=15, verbose=1)\n"
   ]
  },
  {
   "cell_type": "markdown",
   "metadata": {},
   "source": [
    "## Save Model"
   ]
  },
  {
   "cell_type": "code",
   "execution_count": 25,
   "metadata": {},
   "outputs": [],
   "source": [
    "\n",
    "model.save('basic_model.h5')  # creates a HDF5 file 'my_model.h5'"
   ]
  },
  {
   "cell_type": "markdown",
   "metadata": {},
   "source": [
    "## Results"
   ]
  },
  {
   "cell_type": "code",
   "execution_count": 26,
   "metadata": {},
   "outputs": [
    {
     "name": "stdout",
     "output_type": "stream",
     "text": [
      "Training score: 873.975846406\n",
      "Training accuracy: 0.861632426403\n"
     ]
    }
   ],
   "source": [
    "score = model.evaluate(X_train, y_train, verbose=0)\n",
    "print('Training score:', score[0])\n",
    "print('Training accuracy:', score[1])\n"
   ]
  },
  {
   "cell_type": "code",
   "execution_count": null,
   "metadata": {
    "collapsed": true
   },
   "outputs": [],
   "source": []
  }
 ],
 "metadata": {
  "kernelspec": {
   "display_name": "Python 3",
   "language": "python",
   "name": "python3"
  },
  "language_info": {
   "codemirror_mode": {
    "name": "ipython",
    "version": 3
   },
   "file_extension": ".py",
   "mimetype": "text/x-python",
   "name": "python",
   "nbconvert_exporter": "python",
   "pygments_lexer": "ipython3",
   "version": "3.6.3"
  }
 },
 "nbformat": 4,
 "nbformat_minor": 2
}
